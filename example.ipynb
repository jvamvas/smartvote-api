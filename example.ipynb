{
 "cells": [
  {
   "cell_type": "code",
   "execution_count": 1,
   "metadata": {},
   "outputs": [],
   "source": [
    "from smartvote.client import Client\n",
    "from smartvote import elections"
   ]
  },
  {
   "cell_type": "code",
   "execution_count": 2,
   "metadata": {},
   "outputs": [],
   "source": [
    "sv = Client(elections.CH_NR_15, language='en', delay=0.25)"
   ]
  },
  {
   "cell_type": "code",
   "execution_count": 3,
   "metadata": {},
   "outputs": [
    {
     "data": {
      "text/plain": [
       "[{'id': 'de', 'name': 'Deutsch'},\n",
       " {'id': 'fr', 'name': 'Français'},\n",
       " {'id': 'it', 'name': 'Italiano'},\n",
       " {'id': 'rm', 'name': 'Rumantsch'},\n",
       " {'id': 'en', 'name': 'English'}]"
      ]
     },
     "execution_count": 3,
     "metadata": {},
     "output_type": "execute_result"
    }
   ],
   "source": [
    "sv.get_languages()"
   ]
  },
  {
   "cell_type": "markdown",
   "metadata": {},
   "source": [
    "## Elections"
   ]
  },
  {
   "cell_type": "code",
   "execution_count": 4,
   "metadata": {},
   "outputs": [
    {
     "data": {
      "text/plain": [
       "{'status': 'ARCHIVED',\n",
       " 'isOver': True,\n",
       " 'hasLists': True,\n",
       " '_links': {'self': '/elections/95',\n",
       "  'statistics': '/elections/95/statistics',\n",
       "  'questionnaire': '/questionnaires/87'},\n",
       " 'name': 'Elections to the National Council',\n",
       " 'infoText': None,\n",
       " 'date': '2015-10-18',\n",
       " 'publicationDateVoter': '2015-08-05',\n",
       " 'identifier': '15_ch_nr',\n",
       " 'id': 95}"
      ]
     },
     "execution_count": 4,
     "metadata": {},
     "output_type": "execute_result"
    }
   ],
   "source": [
    "sv.get_election()"
   ]
  },
  {
   "cell_type": "code",
   "execution_count": 5,
   "metadata": {},
   "outputs": [
    {
     "data": {
      "text/plain": [
       "{'nofCandidatesCompleted': 3207,\n",
       " 'nofCandidates': 3805,\n",
       " 'candidateRatio': 0.842838370565046,\n",
       " '_links': {'self': '/elections/95/statistics'},\n",
       " 'nofRecommendations': 1217388}"
      ]
     },
     "execution_count": 5,
     "metadata": {},
     "output_type": "execute_result"
    }
   ],
   "source": [
    "sv.get_election_statistics()"
   ]
  },
  {
   "cell_type": "markdown",
   "metadata": {},
   "source": [
    "## Questions"
   ]
  },
  {
   "cell_type": "code",
   "execution_count": 6,
   "metadata": {},
   "outputs": [
    {
     "data": {
      "text/plain": [
       "{'_links': {'self': '/questionnaires/87'},\n",
       " 'hasEducation': False,\n",
       " 'hasRapide': True,\n",
       " 'isConfirmed': True,\n",
       " 'cleavages': [{'drawingName': 'Open foreign policy',\n",
       "   'id': 1,\n",
       "   'name': 'Open foreign policy'},\n",
       "  {'drawingName': 'Liberal economy', 'id': 2, 'name': 'Liberal economy'},\n",
       "  {'drawingName': 'Restrictive financial policy',\n",
       "   'id': 3,\n",
       "   'name': 'Restrictive financial policy'},\n",
       "  {'drawingName': 'Law & order', 'id': 4, 'name': 'Law & order'},\n",
       "  {'drawingName': 'Restrictive immigration policy',\n",
       "   'id': 5,\n",
       "   'name': 'Restrictive immigration policy'},\n",
       "  {'drawingName': 'Extended environmental protection',\n",
       "   'id': 6,\n",
       "   'name': 'Extended environmental protection'},\n",
       "  {'drawingName': 'Expanded welfare state',\n",
       "   'id': 7,\n",
       "   'name': 'Expanded welfare state'},\n",
       "  {'drawingName': 'Liberal society', 'id': 8, 'name': 'Liberal society'}],\n",
       " 'hasInformation': True,\n",
       " 'id': 87,\n",
       " 'categories': [{'description': None,\n",
       "   'type': 'AGREEMENT',\n",
       "   'id': 1,\n",
       "   'questions': [{'info': '<p align=\"left\">The Swiss Federal Old Age and Survivors&rsquo; Insurance (AHV) is one of the key social security mechanisms in Switzerland, and is a key pillar of Swiss retirement provision. It is a mandatory form of insurance. The AHV pensions are designed to secure a basic standard of living, i.e. the absolutely necessary living requirements. Under the existing legislation the retirement age for men is 65, and for women, 64.</p>\\n<p align=\"left\">According to the Federal Office for Social Security (BSV), the AHV is currently in good financial shape. From 2020, however, the as yet stable financial situation of the AHV is set to deteriorate because the so-called &ldquo;baby-boomer generation&rdquo; will be reaching retirement age, and demographic developments (the ageing of the Swiss population) mean that the financial footing of the AHV will deteriorate.</p>\\n<p align=\"left\">The AHV is financed through the pay-as-you-go system. This means that the contributions from people who are of employment age pay for the current pensions of the older generations. Over the years to come, the number of Swiss pensioners is set to become ever greater in relation to the Swiss population which is of working age.</p>\\n<p align=\"left\">To address this imbalance between those of working age and the retired generation, it is proposed that the pension age is adjusted in line with increased life expectancy, so as to remove the financial burden that is increasingly being placed on the AHV system.</p>',\n",
       "     'contra': '<p align=\"left\">The AHV is in a healthy financial state, which means that the considerable political pressure to which it has been subjected for years is unjustifiable. Thanks to economic growth, immigration and increased productivity, the financial basis of the AHV is also growing, which means no increase in the pension age is necessary. Despite an increasing number of AHV pensions, when measured against gross domestic product, their proportion is stable. This is despite the unlimited contribution obligation up to the highest income. This means that the AHV has firm foundations.</p>\\n<p align=\"left\">The increase in the pension age also contradicts the realities of the labour market. This is because firstly, more and more people are taking early retirement &ndash; nowadays, only approximately half of 64 year old men are in work. Secondly, the additional jobs which would be required were there to be an increase in the pension age simply aren&rsquo;t there.</p>\\n<p align=\"left\">If a general increase in the pension age comes to pass, many employees will no longer be able to take early retirement. This will have a particularly strong impact on people who work in physically demanding occupations with a low income (the construction sector, for example).</p>',\n",
       "     'name': 'Standard-4',\n",
       "     'text': 'Do you support a raise in the retirement age for both women and men (e.g. to 67)?',\n",
       "     'isInRapide': True,\n",
       "     'pro': '<p align=\"left\">The pension system has to be changed due to increased life expectancy and the fall in the number of births. Without an increase in the pension age, fewer and fewer people of working age will have to pay for more and more pensioners who are living increasingly long lives. At the moment, there are just 3.7 people of working age for one retired person. In 1948, when the AHV was introduced, there were 6.4.</p>\\n<p align=\"left\">From approximately 2019 onwards, the AHV is set to have consistently negative apportionment results. Changing the pension age is a better idea than reducing the payments or increasing the contributions. With a step-by-step, gradual increase in the pension age, the effects on people who are approaching retirement could be strongly relieved.</p>',\n",
       "     'cleavages': [{'id': 7, 'value': -1}],\n",
       "     'type': 'AGREEMENT',\n",
       "     'id': 1433},\n",
       "     .......\n",
   	   "	],\n",
       "   'name': 'Welfare state & family'},\n",
       "  {'description': None,\n",
       "   'type': 'AGREEMENT',\n",
       "   'id': 2,\n",
       "   'questions': [{'info': '<p>The Franchise is the annual share that the insured person has to pay themselves in the insured event.<br /><br />Since 2003, the Minimum Franchise with compulsory health insurance has totalled 300 Swiss Francs, a figure which has not been adjusted for inflation for 13 years. While the costs of healthcare increase all the time, the Minimum Franchise has not changed. This situation has led to an increase in health insurance premiums.<br /><br />The health insurance providers have therefore proposed increasing the Minimum Franchise to 500 Swiss Francs to take the cumulative inflation in the cost of health insurance into account and to make the insured persons provide a greater contribution to the cost of their treatment.</p>',\n",
       "     'contra': '',\n",
       "     'name': 'Standard-4',\n",
       "     'text': 'Would you agree to an increase in the minimum deductible relating to the compulsory basic health insurance scheme (KVG) from CHF\\xa0300 to CHF\\xa0500?',\n",
       "     'isInRapide': True,\n",
       "     'pro': '',\n",
       "     'cleavages': [{'id': 7, 'value': -1}],\n",
       "     'type': 'AGREEMENT',\n",
       "     'id': 1439},\n",
       "     .......\n",
   	   "	],\n",
       "   'name': 'Health care'},\n",
       "   .......\n",
       "  }"
      ]
     },
     "execution_count": 6,
     "metadata": {},
     "output_type": "execute_result"
    }
   ],
   "source": [
    "sv.get_questionnaire()"
   ]
  },
  {
   "cell_type": "markdown",
   "metadata": {},
   "source": [
    "## Constituencies"
   ]
  },
  {
   "cell_type": "code",
   "execution_count": 7,
   "metadata": {},
   "outputs": [
    {
     "data": {
      "text/plain": [
       "[{'nofSeats': 16,\n",
       "  '_links': {'statistics': '/elections/95/constituencies/18800000000/statistics'},\n",
       "  'id': 18800000000,\n",
       "  'name': 'Aargau'},\n",
       " {'nofSeats': 1,\n",
       "  '_links': {'statistics': '/elections/95/constituencies/18800000002/statistics'},\n",
       "  'id': 18800000002,\n",
       "  'name': 'Appenzell Inner Rhodes'}]"
      ]
     },
     "execution_count": 7,
     "metadata": {},
     "output_type": "execute_result"
    }
   ],
   "source": [
    "sv.get_constituencies()[:2]"
   ]
  },
  {
   "cell_type": "code",
   "execution_count": 8,
   "metadata": {},
   "outputs": [
    {
     "data": {
      "text/plain": [
       "{'nofSeats': 16,\n",
       " '_links': {'statistics': '/elections/95/constituencies/18800000000/statistics'},\n",
       " 'id': 18800000000,\n",
       " 'name': 'Aargau'}"
      ]
     },
     "execution_count": 8,
     "metadata": {},
     "output_type": "execute_result"
    }
   ],
   "source": [
    "sv.get_constituency(constituency_id=18800000000)  # Aargau"
   ]
  },
  {
   "cell_type": "code",
   "execution_count": 9,
   "metadata": {},
   "outputs": [
    {
     "data": {
      "text/plain": [
       "{'nofCandidatesCompleted': 263, 'nofCandidates': 288}"
      ]
     },
     "execution_count": 9,
     "metadata": {},
     "output_type": "execute_result"
    }
   ],
   "source": [
    "sv.get_constituency_statistics(constituency_id=18800000000)  # Aargau"
   ]
  },
  {
   "cell_type": "markdown",
   "metadata": {},
   "source": [
    "## Parties"
   ]
  },
  {
   "cell_type": "code",
   "execution_count": 10,
   "metadata": {},
   "outputs": [
    {
     "data": {
      "text/plain": [
       "[{'abbreviation': 'BDP',\n",
       "  'website': 'http://www.bdp.info/schweiz/de',\n",
       "  'facebook': 'https://www.facebook.com/bdpschweiz',\n",
       "  'name': 'Bürgerlich-Demokratische Partei',\n",
       "  'logoURL': 'images/elections/15_ch_nr/responder/party/bdp_deRB.jpg',\n",
       "  'partyColorGroup': 'bdp',\n",
       "  'twitter': '#!/BDPSchweiz',\n",
       "  'id': 18800003411},\n",
       " {'abbreviation': 'CVP',\n",
       "  'website': 'http://www.cvp.ch',\n",
       "  'facebook': 'https://www.facebook.com/CVP.PDC.PPD.PCD',\n",
       "  'name': 'Christlichdemokratische Volkspartei',\n",
       "  'logoURL': 'images/elections/15_ch_nr/responder/party/cvp_deH.jpg',\n",
       "  'partyColorGroup': 'cvp',\n",
       "  'twitter': '#!/cvp_pdc_ppd_pcd',\n",
       "  'id': 18800000570}]"
      ]
     },
     "execution_count": 10,
     "metadata": {},
     "output_type": "execute_result"
    }
   ],
   "source": [
    "sv.get_parties(constituency_id=18800000000, root_parties=False)[:2]  # Aargau"
   ]
  },
  {
   "cell_type": "code",
   "execution_count": 11,
   "metadata": {},
   "outputs": [
    {
     "data": {
      "text/plain": [
       "{'abbreviation': 'BDP',\n",
       " 'website': 'http://www.bdp.info/schweiz/de',\n",
       " 'facebook': 'https://www.facebook.com/bdpschweiz',\n",
       " 'name': 'Bürgerlich-Demokratische Partei',\n",
       " 'logoURL': 'images/elections/15_ch_nr/responder/party/bdp_deRB.jpg',\n",
       " 'partyColorGroup': 'bdp',\n",
       " 'twitter': '#!/BDPSchweiz',\n",
       " 'id': 18800003411}"
      ]
     },
     "execution_count": 11,
     "metadata": {},
     "output_type": "execute_result"
    }
   ],
   "source": [
    "sv.get_party(party_id=18800003411)  # BDP"
   ]
  },
  {
   "cell_type": "markdown",
   "metadata": {},
   "source": [
    "## Lists"
   ]
  },
  {
   "cell_type": "code",
   "execution_count": 12,
   "metadata": {},
   "outputs": [
    {
     "data": {
      "text/plain": [
       "[{'website': 'http://www.svp.ch',\n",
       "  'twitter': 'http://twitter.com/#!/SVPch',\n",
       "  'number': '01a',\n",
       "  'facebook': 'https://www.facebook.com/SVPch',\n",
       "  'nofRegisteredCandidates': 16,\n",
       "  'id': 18800004767,\n",
       "  'nofConfirmedCandidates': 13,\n",
       "  'name': 'SVP - Schweizerische Volkspartei',\n",
       "  'nofMale': 12,\n",
       "  'logoURL': '/images/elections/15_ch_nr/responder/party/SVP_dt_rgbuT.gif',\n",
       "  'nofFemale': 4},\n",
       " {'website': 'http://www.jungesvp.ch/',\n",
       "  'twitter': None,\n",
       "  'number': '01b',\n",
       "  'facebook': 'https://www.facebook.com/jsvpch',\n",
       "  'nofRegisteredCandidates': 16,\n",
       "  'id': 18800004770,\n",
       "  'nofConfirmedCandidates': 13,\n",
       "  'name': 'JSVP - Junge Schweizerische Volkspartei',\n",
       "  'nofMale': 15,\n",
       "  'logoURL': '/images/elections/15_ch_nr/responder/party/593px-logo_junge_svp_svglI.jpg',\n",
       "  'nofFemale': 1}]"
      ]
     },
     "execution_count": 12,
     "metadata": {},
     "output_type": "execute_result"
    }
   ],
   "source": [
    "sv.get_lists(constituency_id=18800000000)[:2]  # Aargau"
   ]
  },
  {
   "cell_type": "code",
   "execution_count": 13,
   "metadata": {},
   "outputs": [
    {
     "data": {
      "text/plain": [
       "[{'website': 'http://www.svp.ch',\n",
       "  'twitter': 'http://twitter.com/#!/SVPch',\n",
       "  'number': '01a',\n",
       "  'facebook': 'https://www.facebook.com/SVPch',\n",
       "  'nofRegisteredCandidates': 16,\n",
       "  'id': 18800004767,\n",
       "  'nofConfirmedCandidates': 13,\n",
       "  'name': 'SVP - Schweizerische Volkspartei',\n",
       "  'nofMale': 12,\n",
       "  'logoURL': '/images/elections/15_ch_nr/responder/party/SVP_dt_rgbuT.gif',\n",
       "  'nofFemale': 4},\n",
       " {'website': 'http://www.jungesvp.ch/',\n",
       "  'twitter': None,\n",
       "  'number': '01b',\n",
       "  'facebook': 'https://www.facebook.com/jsvpch',\n",
       "  'nofRegisteredCandidates': 16,\n",
       "  'id': 18800004770,\n",
       "  'nofConfirmedCandidates': 13,\n",
       "  'name': 'JSVP - Junge Schweizerische Volkspartei',\n",
       "  'nofMale': 15,\n",
       "  'logoURL': '/images/elections/15_ch_nr/responder/party/593px-logo_junge_svp_svglI.jpg',\n",
       "  'nofFemale': 1}]"
      ]
     },
     "execution_count": 13,
     "metadata": {},
     "output_type": "execute_result"
    }
   ],
   "source": [
    "sv.get_lists(party_id=18800001493)[:2]  # LDP"
   ]
  },
  {
   "cell_type": "code",
   "execution_count": 14,
   "metadata": {},
   "outputs": [
    {
     "data": {
      "text/plain": [
       "{'website': 'http://www.svp.ch',\n",
       " 'nofRegisteredCandidates': 16,\n",
       " 'name': 'SVP - Schweizerische Volkspartei',\n",
       " 'twitter': 'http://twitter.com/#!/SVPch',\n",
       " 'logoURL': '/images/elections/15_ch_nr/responder/party/SVP_dt_rgbuT.gif',\n",
       " 'number': '01a',\n",
       " 'nofMale': 12,\n",
       " 'facebook': 'https://www.facebook.com/SVPch',\n",
       " 'parties': [{'abbreviation': 'SVP',\n",
       "   'website': 'http://www.svp.ch',\n",
       "   'facebook': 'https://www.facebook.com/SVPch',\n",
       "   'name': 'Schweizerische Volkspartei',\n",
       "   'logoURL': 'images/elections/15_ch_nr/responder/party/SVP_dt_rgbuT.gif',\n",
       "   'partyColorGroup': 'svp',\n",
       "   'twitter': '#!/SVPch',\n",
       "   'id': 18800004766}],\n",
       " 'nofFemale': 4,\n",
       " 'nofConfirmedCandidates': 13,\n",
       " 'constituency': {'nofSeats': 16,\n",
       "  '_links': {'statistics': '/elections/95/constituencies/18800000000/statistics'},\n",
       "  'id': 18800000000,\n",
       "  'name': 'Aargau'},\n",
       " 'id': 18800004767}"
      ]
     },
     "execution_count": 14,
     "metadata": {},
     "output_type": "execute_result"
    }
   ],
   "source": [
    "sv.get_list(list_id=18800004767)  # List \"SVP - Schweizerische Volkspartei\" Aargau"
   ]
  },
  {
   "cell_type": "code",
   "execution_count": 15,
   "metadata": {},
   "outputs": [
    {
     "data": {
      "text/plain": [
       "[{'partyColorGroup': 'svp',\n",
       "  'responderId': 18800004767,\n",
       "  'smartspider': [{'id': 9493,\n",
       "    'value': 14.2857,\n",
       "    'name': 'Open foreign policy'},\n",
       "   {'id': 9494, 'value': 73.3333, 'name': 'Liberal economy'},\n",
       "   {'id': 9495, 'value': 65.0, 'name': 'Restrictive financial policy'},\n",
       "   {'id': 9496, 'value': 86.1111, 'name': 'Law & order'},\n",
       "   {'id': 9497, 'value': 95.8333, 'name': 'Restrictive immigration policy'},\n",
       "   {'id': 9498, 'value': 14.2857, 'name': 'Extended environmental protection'},\n",
       "   {'id': 9499, 'value': 19.4444, 'name': 'Expanded welfare state'},\n",
       "   {'id': 9500, 'value': 45.0, 'name': 'Liberal society'}]}]"
      ]
     },
     "execution_count": 15,
     "metadata": {},
     "output_type": "execute_result"
    }
   ],
   "source": [
    "sv.get_smartspider(responder_id=18800004767)  # List \"SVP - Schweizerische Volkspartei\" Aargau"
   ]
  },
  {
   "cell_type": "markdown",
   "metadata": {},
   "source": [
    "## Candidates"
   ]
  },
  {
   "cell_type": "code",
   "execution_count": 16,
   "metadata": {},
   "outputs": [
    {
     "data": {
      "text/plain": [
       "[{'website': None,\n",
       "  'city': 'Rudolfstetten-Friedlisberg',\n",
       "  'hasConfirmedAnswers': True,\n",
       "  'firstname': 'Karin',\n",
       "  'lastname': 'Anderegg',\n",
       "  'twitter': None,\n",
       "  'isElected': False,\n",
       "  'yearOfBirth': 1977,\n",
       "  'profileImageURL': ['images/elections/15_ch_nr/responder/candidate/thumbnail/Anderegg_18800003442_Karin_1.jpg'],\n",
       "  'hasSmartvoteProfile': True,\n",
       "  'listPlaces': [{'position': 5}],\n",
       "  '_links': {'party': '/elections/95/parties/18800003412',\n",
       "   'constituency': '/elections/95/constituencies/18800000000',\n",
       "   'list': '/elections/95/lists/18800003417',\n",
       "   'election': '/elections/95',\n",
       "   'self': '/elections/95/candidates/18800003442'},\n",
       "  'gender': 'f',\n",
       "  'facebook': None,\n",
       "  'isIncumbent': False,\n",
       "  'id': 18800003442},\n",
       " {'website': 'http://www.maya-bally.ch/',\n",
       "  'city': 'Hendschiken',\n",
       "  'hasConfirmedAnswers': True,\n",
       "  'firstname': 'Maya',\n",
       "  'lastname': 'Bally Frehner',\n",
       "  'twitter': 'https://twitter.com/maya_bally',\n",
       "  'isElected': False,\n",
       "  'yearOfBirth': 1961,\n",
       "  'profileImageURL': ['images/elections/15_ch_nr/responder/candidate/thumbnail/Bally_Frehner_18800003429_Maya_1.jpg'],\n",
       "  'hasSmartvoteProfile': True,\n",
       "  'listPlaces': [{'position': 2}],\n",
       "  '_links': {'party': '/elections/95/parties/18800003411',\n",
       "   'constituency': '/elections/95/constituencies/18800000000',\n",
       "   'list': '/elections/95/lists/18800003416',\n",
       "   'election': '/elections/95',\n",
       "   'self': '/elections/95/candidates/18800003429'},\n",
       "  'gender': 'f',\n",
       "  'facebook': 'https://www.facebook.com/pages/Maya-Bally/493050897372153',\n",
       "  'isIncumbent': False,\n",
       "  'id': 18800003429}]"
      ]
     },
     "execution_count": 16,
     "metadata": {},
     "output_type": "execute_result"
    }
   ],
   "source": [
    "sv.get_candidates(constituency_id=18800000000, party_id=18800003411)[:2]  # BDP Aargau"
   ]
  },
  {
   "cell_type": "code",
   "execution_count": 17,
   "metadata": {},
   "outputs": [],
   "source": [
    "# Need to recreate client after candidates query; why?\n",
    "sv = Client(elections.CH_NR_15, language='en', delay=0.25)"
   ]
  },
  {
   "cell_type": "code",
   "execution_count": 18,
   "metadata": {},
   "outputs": [
    {
     "data": {
      "text/plain": [
       "[{'website': 'http://www.petra-goessi.ch',\n",
       "  'city': 'Küssnacht',\n",
       "  'hasConfirmedAnswers': True,\n",
       "  'firstname': 'Petra',\n",
       "  'lastname': 'Gössi',\n",
       "  'twitter': None,\n",
       "  'isElected': True,\n",
       "  'yearOfBirth': 1976,\n",
       "  'profileImageURL': ['images/elections/15_ch_nr/responder/candidate/thumbnail/Goessi_18800000218_Petra_1.jpg'],\n",
       "  'hasSmartvoteProfile': True,\n",
       "  'listPlaces': [{'position': 1}],\n",
       "  '_links': {'party': '/elections/95/parties/18800000215',\n",
       "   'constituency': '/elections/95/constituencies/18800000016',\n",
       "   'list': '/elections/95/lists/18800000216',\n",
       "   'election': '/elections/95',\n",
       "   'self': '/elections/95/candidates/18800000218'},\n",
       "  'gender': 'f',\n",
       "  'facebook': None,\n",
       "  'isIncumbent': True,\n",
       "  'id': 18800000218}]"
      ]
     },
     "execution_count": 18,
     "metadata": {},
     "output_type": "execute_result"
    }
   ],
   "source": [
    "sv.get_candidates(\n",
    "    firstname='Petra',\n",
    "    lastname='Gössi',\n",
    "    age_from=18,\n",
    "    age_until=99,\n",
    "    gender='f',\n",
    "    has_smartvote_profile=True,\n",
    "    is_elected=True,\n",
    "    is_incumbent=True,\n",
    ")"
   ]
  },
  {
   "cell_type": "code",
   "execution_count": 19,
   "metadata": {},
   "outputs": [
    {
     "data": {
      "text/plain": [
       "{'favoriteMusic': '',\n",
       " 'nofChildren': None,\n",
       " 'twitter': None,\n",
       " 'civilState': None,\n",
       " 'favoriteMovies': '',\n",
       " 'hobbies': '',\n",
       " 'education': None,\n",
       " 'id': 18800000218,\n",
       " 'occupation': 'Juristin',\n",
       " 'city': 'Küssnacht',\n",
       " 'politnetz': None,\n",
       " 'firstname': 'Petra',\n",
       " 'learntOccupation': None,\n",
       " 'sourceOther': None,\n",
       " 'canton': None,\n",
       " 'vimeoChannel': None,\n",
       " '_links': {'party': '/elections/95/parties/18800000215',\n",
       "  'constituency': '/elections/95/constituencies/18800000016',\n",
       "  'list': '/elections/95/lists/18800000216',\n",
       "  'election': '/elections/95',\n",
       "  'self': '/elections/95/candidates/18800000218'},\n",
       " 'commentedTopics': [],\n",
       " 'sourceOwn': None,\n",
       " 'favoriteBooks': '',\n",
       " 'website': 'http://www.petra-goessi.ch',\n",
       " 'youtubeChannel': None,\n",
       " 'lastname': 'Gössi',\n",
       " 'isElected': True,\n",
       " 'politicalMandates': [],\n",
       " 'profileImageURL': ['images/elections/15_ch_nr/responder/candidate/thumbnail/Goessi_18800000218_Petra_1.jpg'],\n",
       " 'denomination': None,\n",
       " 'vestedInterests': [],\n",
       " 'facebook': None,\n",
       " 'publicEmailAddress': 'petra.goessi@parl.ch',\n",
       " 'nationality': 'Switzerland',\n",
       " 'employers': 'Baryon AG, Zürich',\n",
       " 'isIncumbent': True,\n",
       " 'hasSmartvoteProfile': True,\n",
       " 'slogan': '',\n",
       " 'gender': 'f',\n",
       " 'sourceDonor': None,\n",
       " 'hasConfirmedAnswers': True,\n",
       " 'yearOfBirth': 1976,\n",
       " 'listPlaces': [{'position': 1}],\n",
       " 'additionalWebsiteLinks': [],\n",
       " 'fundingComment': None,\n",
       " 'campaignFunding': None,\n",
       " 'additionalVideoLinks': [],\n",
       " 'sourceParty': None,\n",
       " 'sourceCompany': None,\n",
       " 'country': 'Switzerland'}"
      ]
     },
     "execution_count": 19,
     "metadata": {},
     "output_type": "execute_result"
    }
   ],
   "source": [
    "sv.get_candidate(candidate_id=18800000218)  # Petra Gössi"
   ]
  },
  {
   "cell_type": "code",
   "execution_count": 20,
   "metadata": {},
   "outputs": [
    {
     "data": {
      "text/plain": [
       "[{'partyColorGroup': 'fdp',\n",
       "  'responderId': 18800003737,\n",
       "  'smartspider': [{'id': 633047, 'value': 75.0, 'name': 'Open foreign policy'},\n",
       "   {'id': 633048, 'value': 96.6667, 'name': 'Liberal economy'},\n",
       "   {'id': 633049, 'value': 58.3333, 'name': 'Restrictive financial policy'},\n",
       "   {'id': 633050, 'value': 38.8889, 'name': 'Law & order'},\n",
       "   {'id': 633051, 'value': 50.0, 'name': 'Restrictive immigration policy'},\n",
       "   {'id': 633052,\n",
       "    'value': 19.6429,\n",
       "    'name': 'Extended environmental protection'},\n",
       "   {'id': 633053, 'value': 22.2222, 'name': 'Expanded welfare state'},\n",
       "   {'id': 633054, 'value': 77.5, 'name': 'Liberal society'}]}]"
      ]
     },
     "execution_count": 20,
     "metadata": {},
     "output_type": "execute_result"
    }
   ],
   "source": [
    "sv.get_smartspider(responder_id=18800003737)  # Ignazio Cassis"
   ]
  },
  {
   "cell_type": "code",
   "execution_count": 21,
   "metadata": {},
   "outputs": [
    {
     "data": {
      "text/plain": [
       "[{'comment': \"Viviamo sempre più a lungo e sempre più sani. Dunque anche l'età del pensionamento va adeguata per garantire la solidarietà intergenerazionale indispensabile al finanziamento delle pensioni!\",\n",
       "  'questionId': 1433,\n",
       "  'hasComment': True,\n",
       "  'weightLabel': '=',\n",
       "  'value': 100,\n",
       "  'weightId': 'SAME',\n",
       "  'id': 3880336},\n",
       " {'comment': 'Solo transitoriamente, quale incitazione finanziaria iniziale. Il compito incombe a Cantoni e Comuni, non alla Confederazione.',\n",
       "  'questionId': 1434,\n",
       "  'hasComment': True,\n",
       "  'weightLabel': '=',\n",
       "  'value': 25,\n",
       "  'weightId': 'SAME',\n",
       "  'id': 3880440}]"
      ]
     },
     "execution_count": 21,
     "metadata": {},
     "output_type": "execute_result"
    }
   ],
   "source": [
    "sv.get_answers(responder_id=18800003737)[0][:2]  # Ignazio Cassis"
   ]
  }
 ],
 "metadata": {
  "kernelspec": {
   "display_name": "Python 3",
   "language": "python",
   "name": "python3"
  },
  "language_info": {
   "codemirror_mode": {
    "name": "ipython",
    "version": 3
   },
   "file_extension": ".py",
   "mimetype": "text/x-python",
   "name": "python",
   "nbconvert_exporter": "python",
   "pygments_lexer": "ipython3",
   "version": "3.6.8"
  }
 },
 "nbformat": 4,
 "nbformat_minor": 2
}
